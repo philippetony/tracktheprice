{
 "cells": [
  {
   "cell_type": "code",
   "execution_count": 2,
   "metadata": {},
   "outputs": [],
   "source": [
    "#!/usr/bin/python\n",
    "# -*- coding: utf-8 -*-\n",
    "import imaplib\n",
    "import os\n",
    "import re\n",
    "import email\n",
    "import codecs\n",
    "import datetime\n",
    "import calendar\n",
    "import json\n",
    "\n",
    "from email.parser import BytesParser\n",
    "from email.policy import default\n"
   ]
  },
  {
   "cell_type": "code",
   "execution_count": 3,
   "metadata": {},
   "outputs": [],
   "source": [
    "with open(\".credentials.json\",\"r\") as f:\n",
    "    login, password = json.load(f)\n",
    "mail = imaplib.IMAP4_SSL('imap.gmail.com')\n",
    "mail.login(login, password)\n",
    "mail.list()\n",
    "# Out: list of \"folders\" aka labels in gmail.\n",
    "mail.select() # connect to inbox.\n",
    "result, data = mail.search(None, '(SINCE \"'+(datetime.date.today()-datetime.timedelta(365)).strftime('%d-%b-%Y')+'\")', '(FROM ticket-caisse@e-ticket.systeme-u.fr)')\n",
    "\n",
    "ids = data[0]\n",
    "len(ids)\n",
    "id_list = ids.split()"
   ]
  },
  {
   "cell_type": "code",
   "execution_count": 90,
   "metadata": {},
   "outputs": [
    {
     "name": "stdout",
     "output_type": "stream",
     "text": [
      "attachment; filename=\"Ticket de caisse_31012023-134525.pdf\"\n",
      "attachment; filename=\"Ticket de caisse_14022023-135431.pdf\"\n",
      "attachment; filename=\"Ticket de caisse_21022023-133552.pdf\"\n",
      "attachment; filename=\"Ticket de caisse_24022023-145318.pdf\"\n",
      "attachment; filename=\"Ticket de caisse_25022023-180238.pdf\"\n",
      "attachment; filename=\"Ticket de caisse_28022023-191014.pdf\"\n",
      "attachment; filename=\"Ticket de caisse_06032023-130139.pdf\"\n",
      "attachment; filename=\"Ticket de caisse_15032023-133940.pdf\"\n",
      "attachment; filename=\"Ticket de caisse_20032023-183925.pdf\"\n",
      "attachment; filename=\"Ticket de caisse_22032023-124313.pdf\"\n",
      "attachment; filename=\"Ticket de caisse_03042023-150835.pdf\"\n",
      "attachment; filename=\"Ticket de caisse_08042023-185230.pdf\"\n",
      "attachment; filename=\"Ticket de caisse_15042023-193559.pdf\"\n",
      "attachment; filename=\"Ticket de caisse_26042023-185930.pdf\"\n",
      "attachment; filename=\"Ticket de caisse_29042023-151816.pdf\"\n",
      "attachment; filename=\"Ticket de caisse_03052023-190008.pdf\"\n",
      "attachment; filename=\"Ticket de caisse_09052023-183717.pdf\"\n"
     ]
    }
   ],
   "source": [
    "for id in id_list:\n",
    "        res, dat = mail.fetch(id, \"(RFC822)\")\n",
    "        raw = dat[0][1]\n",
    "        # email_message = email.message_from_bytes(raw)\n",
    "        # subject = email_message['Subject']\n",
    "        # print(str(id,\"ISO-8859-1\")+\" \"+subject)\n",
    "        # for msg in email_message.get_payload():\n",
    "        #         print(type(msg), msg.keys())\n",
    "        #         for part in msg.walk():\n",
    "        #                 print(part.get_content_type())\n",
    "\n",
    "        \n",
    "        new_msg = BytesParser(policy=default).parsebytes(raw)\n",
    "        # print(type(new_msg))\n",
    "        # print(new_msg.keys())\n",
    "        for attachment in new_msg.iter_parts():\n",
    "                if not 'Content-Disposition' in attachment.keys(): \n",
    "                        continue\n",
    "                # print(attachment.get_filename())\n",
    "                if match := re.search(\"Ticket de caisse_[_0-9-]+.pdf\", attachment.get_filename()):\n",
    "                        print(attachment['Content-Disposition'])\n",
    "                        filename = match.group()\n",
    "                        # print(attachment.items())\n",
    "                        payload = attachment.get_content()\n",
    "                        with open(f\"data/{filename}\", \"wb\") as f:\n",
    "                                f.write(payload)\n",
    "\n",
    "        # body = body.partition(\"--\")[0].partition(\"Best Regards\")[0].replace(\"\\r\\n\",\"\\n\")\n",
    "        # filename=\"data/\"+subject\n",
    "        # i = 1\n",
    "        # while (os.path.isfile(filename)):\n",
    "        #         filename=filename.rstrip(\"_\"+str(i))+\"_\"+str(i+1)\n",
    "        #         i=i+1\n",
    "        # with codecs.open(filename,\"w+\",\"iso-8859-1\") as file:\n",
    "        #         file.write(body)\n",
    "                \n"
   ]
  }
 ],
 "metadata": {
  "kernelspec": {
   "display_name": "Python 3",
   "language": "python",
   "name": "python3"
  },
  "language_info": {
   "codemirror_mode": {
    "name": "ipython",
    "version": 3
   },
   "file_extension": ".py",
   "mimetype": "text/x-python",
   "name": "python",
   "nbconvert_exporter": "python",
   "pygments_lexer": "ipython3",
   "version": "3.8.13"
  },
  "orig_nbformat": 4
 },
 "nbformat": 4,
 "nbformat_minor": 2
}
